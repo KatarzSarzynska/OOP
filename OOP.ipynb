{
  "metadata": {
    "language_info": {
      "codemirror_mode": {
        "name": "python",
        "version": 3
      },
      "file_extension": ".py",
      "mimetype": "text/x-python",
      "name": "python",
      "nbconvert_exporter": "python",
      "pygments_lexer": "ipython3",
      "version": "3.8"
    },
    "kernelspec": {
      "name": "python",
      "display_name": "Python (Pyodide)",
      "language": "python"
    }
  },
  "nbformat_minor": 4,
  "nbformat": 4,
  "cells": [
    {
      "cell_type": "code",
      "source": "class group:\n    def __init__(self, name, topic):\n        self.name = name #__name if private\n        self.members = []\n        self.topic = topic\n        \n    def addMembers(self, member):\n        self.members.append(member)\n        self.__privateFunction(member)\n        \n    def membersCount(self):\n        return len(self.members)\n    \n    def __privateFunction(self, member):\n        print (\"Hello \", member)\n\n        \nclass superGroup(group): #inheritance\n    def __init__(self, name, topic):\n        group.__init__(self, name, topic)\n        \n    def superGroupWork(self):\n        print(\"You're doing great!\")\n        \n\ng1 = group(\"Wolves\",\"Animals\")\ng2 = group(\"Horses\", \"Plants\")\n\ng1.addMembers(\"Joe Rogers\")\ng1.addMembers(\"Joe Morgan\")\ng2.addMembers(\"Rob Bob\")\ng2.addMembers(\"Monica Welller\")\ng2.addMembers(\"Steph Jolly\")\n\nprint(g1.name)\nprint(g2.name)\n\nprint(g1.members)\nprint(g2.members)\n\nprint(g1.topic)\nprint(g2.topic)\n\ndel g2 #deleting an instance\n\ng1.membersCount()\n\nsg1 = superGroup(\"Snakes\",\"Balooons\")\nsg1.addMembers(\"Mr Richard\")\nprint(sg1.members)",
      "metadata": {
        "trusted": true
      },
      "execution_count": 4,
      "outputs": [
        {
          "name": "stdout",
          "text": "Hello  Joe Rogers\nHello  Joe Morgan\nHello  Rob Bob\nHello  Monica Welller\nHello  Steph Jolly\nWolves\nHorses\n['Joe Rogers', 'Joe Morgan']\n['Rob Bob', 'Monica Welller', 'Steph Jolly']\nAnimals\nPlants\nHello  Mr Richard\n['Mr Richard']\n",
          "output_type": "stream"
        }
      ]
    },
    {
      "cell_type": "code",
      "source": "",
      "metadata": {},
      "execution_count": null,
      "outputs": []
    },
    {
      "cell_type": "code",
      "source": "",
      "metadata": {},
      "execution_count": null,
      "outputs": []
    }
  ]
}